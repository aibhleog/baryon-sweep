{
 "cells": [
  {
   "cell_type": "markdown",
   "id": "4996c0ed-28b6-46d5-8f09-9b3ac76f9369",
   "metadata": {},
   "source": [
    "## Layered Sigma Clipped, Part 2\n",
    "-------\n",
    "Created by Dr. Taylor Hutchison, NASA GSFC,  \n",
    "on behalf of the TEMPLATES team.\n",
    "\n",
    "\n",
    "This is the second step in the sigma clipping part of the algorithm described in H+, section 2.2.2.  In this step, we use a layered sigma cliping process on the science target spaxels in the IFU cube, saving the output to its own FITS file to be read in at the final step."
   ]
  },
  {
   "cell_type": "markdown",
   "id": "094893ee-5860-423f-9d13-eebd2558db35",
   "metadata": {},
   "source": [
    "<div class=\"alert alert-success\">\n",
    "    <b>NOTE</b> -- this step will likely be the most hands-on of the entire algorithm.  As described in H+, some adjustement may be needed between this step and the part of the mask making code where you define the S/N layers for your science target (generally, this just means shifting the S/N ranges for each layer and rerunning this step to see how it changed).\n",
    "</div>"
   ]
  },
  {
   "cell_type": "code",
   "execution_count": 1,
   "id": "7d796c15-24b6-4e29-a211-2820b2fe9c1f",
   "metadata": {
    "tags": []
   },
   "outputs": [],
   "source": [
    "from routines import * # helper functions & the needed imports"
   ]
  },
  {
   "cell_type": "markdown",
   "id": "1500fb9f-e68b-4f82-a7bd-e6817cb71f6c",
   "metadata": {},
   "source": [
    "### Defining values\n",
    "\n",
    "Below, we'll set some predefined information for the science target."
   ]
  },
  {
   "cell_type": "code",
   "execution_count": 2,
   "id": "194adae5-e543-464d-b6cc-71cd5a6bbd94",
   "metadata": {
    "tags": []
   },
   "outputs": [],
   "source": [
    "# --------------------------\n",
    "# SCIENCE TARGET INFORMATION\n",
    "# --------------------------\n",
    "target = 'SGAS1723' # science target name\n",
    "\n",
    "# returns dictionary of info for chosen science target\n",
    "# also path to reduced FITS cubes to read in\n",
    "science_target, path, grating = get_target_info(target)\n",
    "\n",
    "# target-specific information\n",
    "filename = science_target['grating'][grating]['filename']\n",
    "sli = science_target['grating'][grating]['slice-target'] # benchmark slice index (diff than part 1)\n",
    "\n",
    "\n",
    "# for the sigma clipping part\n",
    "# ---------------------------\n",
    "sigma = 5\n",
    "maxiters = 5\n"
   ]
  },
  {
   "cell_type": "code",
   "execution_count": null,
   "id": "2b603d62-8cf8-465c-b17d-f56f33b0324f",
   "metadata": {},
   "outputs": [],
   "source": [
    "# defining a save path for the output data\n",
    "savepath = 'path/to/outputs'"
   ]
  },
  {
   "cell_type": "code",
   "execution_count": null,
   "id": "56b2ffda-e739-4745-8b33-d1bc08f41c19",
   "metadata": {},
   "outputs": [],
   "source": [
    "# ---------------------\n",
    "# reading in data cubes\n",
    "# ---------------------\n",
    "datacube, header = fits.getdata(path+filename, header=True) \n",
    "errorcube = fits.getdata(path+filename, ext=2) \n",
    "\n",
    "benchmark_slice = datacube[sli]"
   ]
  },
  {
   "cell_type": "markdown",
   "id": "a6e6f826-43af-41c8-b546-0d312a2eecee",
   "metadata": {
    "tags": []
   },
   "source": [
    "### Defining the benchmark spaxels\n",
    "\n",
    "Here we'll define the four spaxels that we'll reference throughout this notebook.  You can pre-identify these spaxels by inspecting the data cube using a software like ds9 (however, if you do this, recall that ds9 indexes beginning at 1 while python beings at 0).\n",
    "\n",
    "Feel free to re-run the following cell over again as you change the spaxel coordinates, until you find four that you like."
   ]
  },
  {
   "cell_type": "code",
   "execution_count": null,
   "id": "4cfc4b71-03c6-4796-b86f-f4b5a816aa39",
   "metadata": {},
   "outputs": [],
   "source": [
    "# identifying benchmark spaxels to look at throughout the sigma clipping process\n",
    "\n",
    "x,y = 33,19 # spaxel 1, make this one \"normal\"\n",
    "x2,y2 = 28,37 # spaxel 2\n",
    "x3,y3 = 25,29 # spaxel 3\n",
    "x4,y4 = 16,45 # spaxle 4\n",
    "\n",
    "# LOOKING AT THE BENCHMARK SLICE & LOCATION OF \n",
    "# BENCHMARK SPAXELS CHOSEN ABOVE\n",
    "# ---------------\n",
    "\n",
    "# defining the colormap limits here, will use throughout notebook\n",
    "clims = (-0.5,5)\n",
    "\n",
    "\n",
    "plt.figure(figsize=(8,6))\n",
    "\n",
    "plt.imshow(benchmark_slice,clim=clims,origin='lower',cmap='viridis')\n",
    "\n",
    "plt.scatter(x,y,s=40,edgecolor='k',color='C0',lw=1.5) # \"normal\" spaxel\n",
    "plt.scatter(x2,y2,s=40,edgecolor='k',color='g',lw=1.5) # spaxel 2\n",
    "plt.scatter(x3,y3,s=40,edgecolor='k',color='#CB9E0E',lw=1.5) # spaxel 3\n",
    "plt.scatter(x4,y4,s=40,edgecolor='k',color='r',lw=1.5) # spaxel 4\n",
    "\n",
    "plt.gca().set_yticklabels([])\n",
    "plt.gca().set_xticklabels([])\n",
    "\n",
    "plt.tight_layout()\n",
    "plt.show()\n",
    "plt.close('all')\n"
   ]
  },
  {
   "cell_type": "code",
   "execution_count": null,
   "id": "b48860d8-4af9-4ffc-802b-35b85c08759e",
   "metadata": {},
   "outputs": [],
   "source": [
    "# ------------------------------------------\n",
    "# LOOKING AT 1D AROUND BENCHMARK SLICE IN 1D\n",
    "# ------------------------------------------\n",
    "\n",
    "wave_mask = get_benchmark_wave_index(datacube,sli) # indicies around benchmark slice\n",
    "\n",
    "# pulling spectrum at each benchmark spaxel\n",
    "spec = get_spec(x,y,datacube,errorcube)\n",
    "spec2 = get_spec(x2,y2,datacube,errorcube)\n",
    "spec3 = get_spec(x3,y3,datacube,errorcube)\n",
    "spec4 = get_spec(x4,y4,datacube,errorcube)\n",
    "\n",
    "scale = get_yaxis_scale(spec.flam.values) # to scale yaxis for readability\n",
    "benchmark_wave = spec.loc[sli,'wave'] # to mark the benchmark slice in 1D\n",
    "\n",
    "plt.figure(figsize=(8,5))\n",
    "\n",
    "plt.step(spec.wave,spec.flam/scale,where='mid')\n",
    "plt.axvline(benchmark_wave,color='k')\n",
    "\n",
    "plt.step(spec2.wave,spec2.flam/scale,where='mid',color='g')\n",
    "plt.step(spec3.wave,spec3.flam/scale,where='mid',color='#CB9E0E')\n",
    "plt.step(spec4.wave,spec4.flam/scale,where='mid',color='r')\n",
    "\n",
    "plt.xlim(spec.loc[wave_mask[0],'wave'],spec.loc[wave_mask[-1],'wave'])\n",
    "\n",
    "\n",
    "# roughhand setting of ylimits to not be biased by false signal;\n",
    "# so that real features are visible in this validation check\n",
    "y_scale = abs(np.nanmean([spec2.median().flam,spec3.median().flam,spec4.median().flam]) / scale)\n",
    "plt.ylim(-50*y_scale,80*y_scale)\n",
    "\n",
    "\n",
    "plt.tight_layout()\n",
    "plt.show()\n",
    "plt.close('all')\n"
   ]
  },
  {
   "cell_type": "markdown",
   "id": "ac142455-bc34-4a65-a1e5-3d5a6918e3ff",
   "metadata": {},
   "source": [
    "<div class=\"alert alert-success\">\n",
    "    We'll heavily lean on the before and after spectra of the benchmark spaxels to check that the code is functioning as it should. \n",
    "</div>"
   ]
  },
  {
   "cell_type": "markdown",
   "id": "b518795d-f2f3-480e-883c-4afb405ab50e",
   "metadata": {},
   "source": [
    "### Reading in mask information\n",
    "\n",
    "For this step in the layered sigma clipping algorithm, we use both the main mask (that simply defines if a spaxel is associated with the science target or not) AND the mask layers."
   ]
  },
  {
   "cell_type": "code",
   "execution_count": null,
   "id": "1457971d-2dd7-4f03-b63d-f8f963d9ec50",
   "metadata": {},
   "outputs": [],
   "source": [
    "mask, mask_info = get_mask(target)\n",
    "full_mask = mask[0].copy() # first entry is the full mask, rest are the layers\n",
    "\n",
    "masked_benchmark_slice = benchmark_slice.copy()\n",
    "masked_benchmark_slice[full_mask<1] = np.nan"
   ]
  },
  {
   "cell_type": "markdown",
   "id": "d826a98f-7a64-4f5f-b257-6cf176725a02",
   "metadata": {},
   "source": [
    "### Initial layered sigma clipping test using benchmark slice\n",
    "\n",
    "Similar to this step in Part 1, we'll run the clipping on just the benchmark slice, before moving to running it on every slice in the cube.  However, the difference here is that we'll be running the sigma clipping on the individual layers of the science target mask -- where each layer represents a range in S/N for the science target.\n",
    "\n",
    "As before, the left panel is the original benchmark slice, while the right panel is the same slice after clipping.  Any pixels flagged in the clipping will be NaNs (white)."
   ]
  },
  {
   "cell_type": "code",
   "execution_count": null,
   "id": "615fe6f5-7602-46a9-8925-45339aa9b93e",
   "metadata": {},
   "outputs": [],
   "source": [
    "# sigma clipping masked slice layers one at a time\n",
    "with warnings.catch_warnings():  # Ignore warnings\n",
    "    warnings.simplefilter('ignore')\n",
    "    \n",
    "    clipped_layers, clipped_layers_err = [], []\n",
    "    for i in range(len(mask)-1):\n",
    "        # data\n",
    "        masked_slice_layer = masked_benchmark_slice.copy()\n",
    "        masked_slice_layer[mask[i+1]<1] = np.nan # one layer at a time\n",
    "        \n",
    "        clip_mask = sigma_clip(masked_slice_layer, sigma=sigma, maxiters=5).mask\n",
    "        \n",
    "        # data\n",
    "        masked_slice_layer[clip_mask] = np.nan\n",
    "        clipped_layers.append(masked_slice_layer)\n",
    "\n",
    "\n",
    "# setting up the final slice, starting with NaNs & then adding each layer\n",
    "clipped_benchmark_slice = np.zeros(mask[0].shape)\n",
    "clipped_benchmark_slice[:] = np.nan\n",
    "\n",
    "# adding the clipped layers one by one\n",
    "for i in range(len(clipped_layers)):\n",
    "    clipped_benchmark_slice[mask[i+1]>0] = clipped_layers[i][mask[i+1]>0].copy()\n",
    "\n",
    "        \n",
    "\n",
    "\n",
    "# plotting clipped benchmark slice\n",
    "# --------------------------------\n",
    "\n",
    "plt.figure(figsize=(12,6))\n",
    "gs = gridspec.GridSpec(1,2,width_ratios=[1,1],wspace=0)\n",
    "\n",
    "ax = plt.subplot(gs[0]); ax.axis('off')\n",
    "ax.imshow(masked_benchmark_slice,clim=clims,origin='lower',cmap='viridis')\n",
    "\n",
    "ax = plt.subplot(gs[1]); ax.axis('off')\n",
    "ax.imshow(clipped_benchmark_slice,clim=clims,origin='lower',cmap='viridis')\n",
    "\n",
    "\n",
    "plt.tight_layout()\n",
    "plt.show()\n",
    "plt.close('all')\n"
   ]
  },
  {
   "cell_type": "markdown",
   "id": "c3dc0e54-add4-485d-a580-ba70fcaf9a4b",
   "metadata": {},
   "source": [
    "### Running on the full cube\n",
    "\n",
    "Assuming nothing went horribly wrong with the previous step, we'll move to running this layered clipping procedure on the entire cube, for all of the science target spaxels."
   ]
  },
  {
   "cell_type": "code",
   "execution_count": null,
   "id": "718ed061-aa44-4775-9334-9083ff03fda1",
   "metadata": {},
   "outputs": [],
   "source": [
    "# ----------------------\n",
    "# RUNNING SLICE-BY-SLICE\n",
    "# ----------------------\n",
    "\n",
    "# making cube of zeros to log when a pixel has been clipped\n",
    "clipped_pixels = np.zeros(data.shape) # will be 1 in slice if pixel is clipped\n",
    "\n",
    "\n",
    "# clipping slices based on S/N contours previously defined\n",
    "data_clipped = data.copy()\n",
    "error_clipped = error.copy()\n",
    "\n",
    "for s in range(len(data_clipped)):\n",
    "    data_slice = data[s].copy()\n",
    "    error_slice = error[s].copy()\n",
    "\n",
    "    # first, masking out sky spaxels\n",
    "    data_slice[full_mask<1] = np.nan\n",
    "    error_slice[full_mask<1] = np.nan\n",
    "    \n",
    "    mask_data_slice = data_slice.copy()\n",
    "    mask_error_slice = error_slice.copy()\n",
    "    \n",
    "    # marking the pixels that were nans before\n",
    "    # due to rotation of IFU based on observing PA\n",
    "    nans_before = np.zeros(mask_data_slice.shape)\n",
    "    nans_before[np.isnan(mask_data_slice) == True] = 1\n",
    "    \n",
    "    # first checking for the all-NaN slices in IFU\n",
    "    # if yes, nothing happens for that slice and it just\n",
    "    # gets added to the final cube as is\n",
    "    # (this check is a holdover from earlier jwst pipeline versions)\n",
    "    if np.isnan(mask_data_slice).all() == False:\n",
    "        \n",
    "        # sigma clipping masked slice layers one at a time\n",
    "        with warnings.catch_warnings():  # Ignore warnings\n",
    "            warnings.simplefilter('ignore')\n",
    "\n",
    "            clipped_layers,clipped_layers_error = [],[]\n",
    "            clipped_pixels_layers = []\n",
    "            \n",
    "            for j in range(len(mask)-1):\n",
    "                \n",
    "                # setting up slice and layer\n",
    "                masked_slice_layer = mask_data_slice.copy()\n",
    "                masked_slice_layer[mask[j+1]<1] = np.nan # one layer at a time\n",
    "\n",
    "                # for the error, too\n",
    "                masked_slice_layer_error = mask_error_slice.copy()\n",
    "                masked_slice_layer_error[mask[j+1]<1] = np.nan # one layer at a time\n",
    "                \n",
    "                # for the clipped pixel tracker, too\n",
    "                masked_clipped_pixels = np.zeros(masked_slice_layer.shape)\n",
    "\n",
    "                # sigma clipped LAYER in slice\n",
    "                clip_mask = sigma_clip(masked_slice_layer, sigma=sigma, maxiters=5).mask\n",
    "\n",
    "                # replaced flagged things in LAYER with nanmedian\n",
    "                masked_slice_layer[clip_mask] = np.nanmedian(masked_slice_layer)\n",
    "                masked_slice_layer_error[clip_mask] = np.nanmedian(masked_slice_layer_error)\n",
    "\n",
    "                # logging pixels that were clipped in separate cube\n",
    "                masked_clipped_pixels[clip_mask] = 1\n",
    "                # removing pixels that were NaNs before\n",
    "                masked_clipped_pixels[mask[j+1]<1] = 0\n",
    "                \n",
    "                # re-masking the rest\n",
    "                masked_slice_layer[mask[j+1]<1] = np.nan # one layer at a time\n",
    "                masked_slice_layer_error[mask[j+1]<1] = np.nan # one layer at a time\n",
    "\n",
    "                clipped_layers.append(masked_slice_layer)\n",
    "                clipped_layers_error.append(masked_slice_layer_error)\n",
    "                clipped_pixels_layers.append(masked_clipped_pixels)\n",
    "\n",
    "\n",
    "            # making one fully clipped view to see if it works/how it's working\n",
    "            # starting with NaNs & then will add each layer\n",
    "            masked_slice_clipped = np.zeros(full_mask.shape)\n",
    "            masked_slice_clipped[:] = np.nan\n",
    "\n",
    "            masked_slice_clipped_error = np.zeros(full_mask.shape)\n",
    "            masked_slice_clipped_error[:] = np.nan\n",
    "            \n",
    "            # adding the clipped layers one by one\n",
    "            for i in range(len(clipped_layers)):\n",
    "                masked_slice_clipped[mask[i+1]>0] = clipped_layers[i][mask[i+1]>0].copy()\n",
    "                masked_slice_clipped_error[mask[i+1]>0] = clipped_layers_error[i][mask[i+1]>0].copy()\n",
    "                clipped_pixels[s][mask[i+1]>0] = clipped_pixels_layers[i][mask[i+1]>0].copy()\n",
    "\n",
    "            # adding back in nans that were there before\n",
    "            masked_slice_clipped[nans_before == 1] = np.nan\n",
    "            masked_slice_clipped_error[nans_before == 1] = np.nan\n",
    "            \n",
    "            # for clipping tracking, removing pixels that were NaNs before\n",
    "            clipped_pixels[s][nans_before == 1] = 0\n",
    "                \n",
    "        # clipped-by-layer slice added to final cube; rinse & repeat\n",
    "        data_clipped[s] = masked_slice_clipped.copy()\n",
    "        error_clipped[s] = masked_slice_clipped_error.copy()\n",
    "\n",
    "        \n",
    "# verifying everything has the dimensions that they should at the end\n",
    "print(datacube.shape,data_clipped.shape)"
   ]
  },
  {
   "cell_type": "markdown",
   "id": "65192059-e048-4192-9041-4107d989cbda",
   "metadata": {},
   "source": [
    "### Checking changes in benchmark spaxels\n",
    "\n",
    "As mentioned above, use the following plot of the benchmark spaxels' spectra to compare the before & after of the clipping process.  This will be one of the most useful checks in this step of the algorithm -- it will be very clear if something needs to be adjusted.  Here are some things you can look for:\n",
    "\n",
    "- If a benchmark spaxel was near the edge of the IFU field of view, check that the flux density & shape of the spectral feature you're centered on hasn't dropped in value significantly -- as if it was fully replaced by lower S/N values.  If so, that spaxel needs to be moved to a higher S/N mask layer manually because it is being continually clipped in the layer it's currently in.\n",
    "- If you see the peak of the spectral feature (e.g., an emission line) partially clipped for one of your benchmark spaxels, either 1) move the spaxel to a higher S/N mask layer or 2) play with changing the S/N ranges for each mask layer so that there's not so large a S/N range in that mask layer (see Section 2.1.3 and 2.2.2 in H+ for more discussion on this)."
   ]
  },
  {
   "cell_type": "code",
   "execution_count": null,
   "id": "39f92695-9b2e-4b93-aad3-a89487628bfa",
   "metadata": {},
   "outputs": [],
   "source": [
    "# ------------------------------------------\n",
    "# LOOKING AT 1D AROUND BENCHMARK SLICE IN 1D\n",
    "# ------------------------------------------\n",
    "\n",
    "wave_mask = get_benchmark_wave_index(datacube,sli) # indicies around benchmark slice\n",
    "\n",
    "# pulling spectrum at each benchmark spaxel, in clipped data & error cubes\n",
    "spec = get_spec(x,y,data_clipped,error_clipped)\n",
    "spec2 = get_spec(x2,y2,data_clipped,error_clipped)\n",
    "spec3 = get_spec(x3,y3,data_clipped,error_clipped)\n",
    "spec4 = get_spec(x4,y4,data_clipped,error_clipped)\n",
    "\n",
    "scale = get_yaxis_scale(spec.flam.values) # to scale yaxis for readability\n",
    "benchmark_wave = spec.loc[sli,'wave'] # to mark the benchmark slice in 1D\n",
    "\n",
    "plt.figure(figsize=(8,5))\n",
    "\n",
    "plt.step(spec.wave,spec.flam/scale,where='mid')\n",
    "plt.axvline(benchmark_wave,color='k')\n",
    "\n",
    "plt.step(spec2.wave,spec2.flam/scale,where='mid',color='g')\n",
    "plt.step(spec3.wave,spec3.flam/scale,where='mid',color='#CB9E0E')\n",
    "plt.step(spec4.wave,spec4.flam/scale,where='mid',color='r')\n",
    "\n",
    "plt.xlim(spec.loc[wave_mask[0],'wave'],spec.loc[wave_mask[-1],'wave'])\n",
    "\n",
    "\n",
    "# roughhand setting of ylimits to not be biased by false signal;\n",
    "# so that real features are visible in this validation check\n",
    "y_scale = abs(np.nanmean([spec2.median().flam,spec3.median().flam,spec4.median().flam]) / scale)\n",
    "plt.ylim(-50*y_scale,80*y_scale)\n",
    "\n",
    "\n",
    "plt.tight_layout()\n",
    "plt.show()\n",
    "plt.close('all')\n"
   ]
  },
  {
   "cell_type": "markdown",
   "id": "db0832b1-043b-4b77-88af-ea82d1d300d2",
   "metadata": {},
   "source": [
    "<div class=\"alert alert-success\">\n",
    "    Check out the <b>troubleshooting_visually.py</b> helper plotting functions if you want more ways to explore the data before and after the layered sigam clipping step -- they include functions to plot IFU slices, find spaxels, plot spaxel spectra, etc.\n",
    "</div>"
   ]
  },
  {
   "cell_type": "markdown",
   "id": "3e599db8-5edb-4e3a-8bfb-68c6f057ace8",
   "metadata": {},
   "source": [
    "### Saving outputs!\n",
    "\n",
    "As we're running this algorithm piecewise -- first the sky spaxels in this notebook, then the science target spaxels in the next notebook -- we'll save the outputs from this notebook in a subfolder.  If it doesn't exit yet, no worries!  We'll make the subfolder, too."
   ]
  },
  {
   "cell_type": "code",
   "execution_count": null,
   "id": "f202ebe9-8697-42b6-8eb0-4bb9ec118715",
   "metadata": {},
   "outputs": [],
   "source": [
    "# checking that the file system is in place for these data\n",
    "# if not, creating the folder for saving the part 1 & part 2 pieces\n",
    "\n",
    "if os.path.exists(savepath + 'sigma-clipping-pieces/') == False: # if folder doesn't exist\n",
    "    print('Creating folder ' + output_path + 'sigma-clipping-pieces/')\n",
    "    os.system('mkdir ' + output_path + 'sigma-clipping-pieces/') # creates the folder"
   ]
  },
  {
   "cell_type": "markdown",
   "id": "9b76f1e3-c801-42fe-b4a8-62b44e135fdc",
   "metadata": {},
   "source": [
    "For now, we're using a quick-and-dirty method to preserve the important header info -- copying the original header to these new cubes that we're saving and adding a comment.  This will be updated to a more accurate header in later versions."
   ]
  },
  {
   "cell_type": "code",
   "execution_count": null,
   "id": "c9f009b5-7c0d-4468-b19c-5297a7841afd",
   "metadata": {},
   "outputs": [],
   "source": [
    "header['comment'] = 'science target spaxels sigma-clipped by H+ algorithm'\n",
    "\n",
    "pieces_path = savepath + 'sigma-clipping-pieces/'\n",
    "\n",
    "hdu = fits.PrimaryHDU(header=header)\n",
    "hdu1 = fits.ImageHDU(data_clipped,header=header) # the data cube\n",
    "hdu2 = fits.ImageHDU(error_clipped,header=header) # the error cube\n",
    "hdu3 = fits.ImageHDU(clipped_pixels,header=header) # the clipped pixels logging\n",
    "hdul = fits.HDUList([hdu, hdu1, hdu2, hdu3])\n",
    "hdul.writeto(f'{pieces_path}/{target}-sigmaclipping-target-{grating}-s3d.fits',overwrite=True)\n",
    "    "
   ]
  },
  {
   "cell_type": "markdown",
   "id": "130ccc51-4ef9-47f9-8895-0cec22aa42eb",
   "metadata": {},
   "source": [
    "  "
   ]
  },
  {
   "cell_type": "markdown",
   "id": "e972e760-4565-40c9-b29c-549024f4f928",
   "metadata": {
    "tags": []
   },
   "source": [
    "### Double-check \n",
    "At this point, make sure to double-check that the layered clipping process is working as it should.  It may require you to adjust the S/N ranges in the mask layer defining step.\n",
    "\n",
    ".  \n",
    ".  \n",
    ".  \n",
    "### All good?  Next notebook..."
   ]
  }
 ],
 "metadata": {
  "kernelspec": {
   "display_name": "Python 3 (ipykernel)",
   "language": "python",
   "name": "python3"
  },
  "language_info": {
   "codemirror_mode": {
    "name": "ipython",
    "version": 3
   },
   "file_extension": ".py",
   "mimetype": "text/x-python",
   "name": "python",
   "nbconvert_exporter": "python",
   "pygments_lexer": "ipython3",
   "version": "3.11.3"
  }
 },
 "nbformat": 4,
 "nbformat_minor": 5
}
