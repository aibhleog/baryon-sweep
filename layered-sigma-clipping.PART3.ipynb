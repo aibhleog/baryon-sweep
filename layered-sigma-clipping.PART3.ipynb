{
 "cells": [
  {
   "cell_type": "markdown",
   "id": "4996c0ed-28b6-46d5-8f09-9b3ac76f9369",
   "metadata": {},
   "source": [
    "## Layered Sigma Clipped, Part 3\n",
    "-------\n",
    "Created by Dr. Taylor Hutchison, NASA GSFC,  \n",
    "on behalf of the TEMPLATES team.\n",
    "\n",
    "\n",
    "This is the third and final step in the sigma clipping part of the algorithm described in H+, section 2.2.3.  In this step, we combine the outputs from both of the previous steps to make the final, post-processed, science-ready data cube."
   ]
  },
  {
   "cell_type": "code",
   "execution_count": 1,
   "id": "7d796c15-24b6-4e29-a211-2820b2fe9c1f",
   "metadata": {
    "tags": []
   },
   "outputs": [],
   "source": [
    "from routines import * # helper functions & the needed imports"
   ]
  },
  {
   "cell_type": "markdown",
   "id": "1500fb9f-e68b-4f82-a7bd-e6817cb71f6c",
   "metadata": {},
   "source": [
    "### Defining values\n",
    "\n",
    "Below, we'll set some predefined information for the science target."
   ]
  },
  {
   "cell_type": "code",
   "execution_count": 2,
   "id": "194adae5-e543-464d-b6cc-71cd5a6bbd94",
   "metadata": {
    "tags": []
   },
   "outputs": [],
   "source": [
    "# --------------------------\n",
    "# SCIENCE TARGET INFORMATION\n",
    "# --------------------------\n",
    "target = 'SGAS1723' # science target name\n",
    "\n",
    "# returns dictionary of info for chosen galaxy\n",
    "# also path to reduced FITS cubes to read in\n",
    "science_target, path, grating = get_target_info(target)\n",
    "\n",
    "# target-specific information\n",
    "filename = science_target['grating'][grating]['filename']\n",
    "sli = science_target['grating'][grating]['slice-sky'] # benchmark slice index (diff than part 2)\n"
   ]
  },
  {
   "cell_type": "code",
   "execution_count": null,
   "id": "f9fc414b-3ca6-4a6a-8165-6655ba5e49dc",
   "metadata": {},
   "outputs": [],
   "source": [
    "# defining a save path for the output data\n",
    "savepath = 'path/to/outputs'"
   ]
  },
  {
   "cell_type": "code",
   "execution_count": null,
   "id": "56b2ffda-e739-4745-8b33-d1bc08f41c19",
   "metadata": {},
   "outputs": [],
   "source": [
    "# ------------------------\n",
    "# reading in original cube\n",
    "# ------------------------\n",
    "# to get the non-IFU pixels\n",
    "data = fits.getdata(path+filename)\n",
    "\n",
    "\n",
    "# -------------------------------\n",
    "# reading in piecewise data cubes\n",
    "# -------------------------------\n",
    "# reading in both sky clipped & science-target clipped\n",
    "# --(yes this seems a tedious way to read them in, but I'm lazy and this was faster)\n",
    "pieces_path = savepath + '/sigma-clipping-pieces/'\n",
    "\n",
    "sky = fits.getdata(f'{pieces_path}/{target}-sigmaclipping-sky-{grating}-s3d.fits')\n",
    "sky_err = fits.getdata(f'{pieces_path}/{target}-sigmaclipping-sky-{grating}-s3d.fits',ext=2)\n",
    "sky_clipped = fits.getdata(f'{pieces_path}/{target}-sigmaclipping-sky-{grating}-s3d.fits',ext=3)\n",
    "sci = fits.getdata(f'{pieces_path}/{target}-sigmaclipping-target-{grating}-s3d.fits')\n",
    "sci_err = fits.getdata(f'{pieces_path}/{target}-sigmaclipping-target-{grating}-s3d.fits',ext=2)\n",
    "sci_clipped = fits.getdata(f'{pieces_path}/{target}-sigmaclipping-target-{grating}-s3d.fits',ext=3)\n"
   ]
  },
  {
   "cell_type": "markdown",
   "id": "1ec36aa3-054f-4626-8423-5ae69570e907",
   "metadata": {
    "tags": []
   },
   "source": [
    "### Creating final cubes\n",
    "\n",
    "Using the full mask, we'll add the piecewise cubes together after settingslvwgownegoubwqegweg"
   ]
  },
  {
   "cell_type": "code",
   "execution_count": null,
   "id": "6988cdd5-e16d-4e0d-a0b4-638edc62f877",
   "metadata": {},
   "outputs": [],
   "source": [
    "# making boolean map of the non-IFU pixels \n",
    "# (due to the PA of the observations)\n",
    "isnan = np.ones(data.shape)\n",
    "isnan[np.isfinite(data)] = 0 # 1 is NaN, 0 is finite number\n",
    "\n",
    "# reading in mask information\n",
    "mask, mask_info = get_mask(target)\n",
    "full_mask = mask[0].copy() # first entry is the full mask, rest are the layers\n",
    "longmask = np.broadcast_to(full_mask, data.shape) # projecting 2D mask into 3D"
   ]
  },
  {
   "cell_type": "code",
   "execution_count": null,
   "id": "f6db3dab-8ff4-4e1d-bfc8-59ed06e60dfc",
   "metadata": {},
   "outputs": [],
   "source": [
    "# setting things to 0 instead of NaN to prep for adding piecewise cubes together\n",
    "sky[longmask<1] = 0\n",
    "sky_err[longmask<1] = 0\n",
    "sky_clipped[longmask<1] = 0\n",
    "sci[longmask>0] = 0\n",
    "sci_err[longmask>0] = 0\n",
    "sci_clipped[longmask>0] = 0\n",
    "\n",
    "# re-setting the non-IFU pixels to NaNs (don't need to add those)\n",
    "sky[isnan<1] = np.nan\n",
    "sky_err[isnan<1] = np.nan\n",
    "sky_clipped[isnan<1] = np.nan\n",
    "sci[isnan<1] = np.nan\n",
    "sci_err[isnan<1] = np.nan\n",
    "sci_clipped[isnan<1] = np.nan"
   ]
  },
  {
   "cell_type": "code",
   "execution_count": null,
   "id": "6517e809-2633-49c7-9556-8f95c65e83a4",
   "metadata": {},
   "outputs": [],
   "source": [
    "\n",
    "# ---------------\n",
    "# ADDING TOGETHER\n",
    "# ---------------\n",
    "final_clipped = sky + sci\n",
    "final_clipped_error = sky_err + sci_err\n",
    "clipped_pixels = sky_clipped + sci_clipped # will be 1 in slice if pixel was clipped\n"
   ]
  },
  {
   "cell_type": "markdown",
   "id": "250517a0-77af-47bc-9bef-ea2615a3ce4c",
   "metadata": {},
   "source": [
    "### Comparing before & after in a benchmark slice\n",
    "\n",
    "Very similar to Fig 3 in H+, this is just a helpful plot to check specific IFU wavelength slices in a before & after manner.  Additionally, the third panel shows the log of the clipped pixels for the same slice (the third extension in the FITS output from this algorithm)."
   ]
  },
  {
   "cell_type": "code",
   "execution_count": null,
   "id": "acc568a7-0d52-4e80-9dcc-4a08d9b015ee",
   "metadata": {},
   "outputs": [],
   "source": [
    "\n",
    "# plotting pieced together clipped slices\n",
    "# -----------------------------------------\n",
    "\n",
    "# defining the colormap limits here\n",
    "clims = (-0.5,5)\n",
    "\n",
    "\n",
    "plt.figure(figsize=(12,6))\n",
    "gs = gridspec.GridSpec(1,3,width_ratios=[1,1,1],wspace=0)\n",
    "\n",
    "\n",
    "# original data cube straight from the pipeline\n",
    "ax = plt.subplot(gs[0]); ax.axis('off')\n",
    "ax.set_title('original pipeline slice')\n",
    "ax.imshow(data[sli],clim=clims,origin='lower',\n",
    "           cmap='viridis')\n",
    "\n",
    "\n",
    "# slice from final sigma clipped cube\n",
    "ax = plt.subplot(gs[1]); ax.axis('off')\n",
    "ax.set_title('custom outlier rejection')\n",
    "ax.imshow(final_clipped[sli],clim=clims,origin='lower',\n",
    "           cmap='viridis')\n",
    "\n",
    "\n",
    "# slice from clipping pixel tracker\n",
    "ax = plt.subplot(gs[2]); ax.axis('off')\n",
    "ax.set_title('pixels clipped in slice')\n",
    "ax.imshow(full_mask,origin='lower',cmap='Greys',zorder=0,alpha=0.3)\n",
    "ax.imshow(clipped_pixels[sli],origin='lower',cmap='Blues',alpha=0.5)\n",
    "ax.text(0.047,0.927,'science target mask',color='grey',transform=ax.transAxes,fontsize=13)\n",
    "ax.text(0.047,0.87,'clipped pixel',color='C0',transform=ax.transAxes,fontsize=13,alpha=0.8)\n",
    "\n",
    "\n",
    "plt.tight_layout()\n",
    "plt.show()\n",
    "plt.close('all')\n"
   ]
  },
  {
   "cell_type": "markdown",
   "id": "98ff7917-da9a-4e67-bd0d-96a079c06812",
   "metadata": {},
   "source": [
    "### Checking some basic stats\n",
    "\n",
    "Below is some very basic stats-checking for the before & after clipping of the science target spaxels and the sky (i.e., NOT science target) spaxels for the benchmark slice."
   ]
  },
  {
   "cell_type": "code",
   "execution_count": null,
   "id": "a57dd8e0-6bbe-4de9-81b7-bc7fa6b71017",
   "metadata": {},
   "outputs": [],
   "source": [
    "# BEFORE & AFTER STATS\n",
    "print('Stats for the science target spaxels, before & after clipping:',end='\\n\\n')\n",
    "for d in [data[sli].copy(),final_clipped[sli].copy()]:\n",
    "    d[full_mask<1] = np.nan\n",
    "    print('Median:',np.nanmedian(d))\n",
    "    print('Mean:',np.nanmean(d))\n",
    "    print('Standard Deviation:',np.nanstd(d))\n",
    "    print('Max,Min:',np.nanmax(d),np.nanmin(d),end='\\n\\n')\n",
    "\n",
    "    \n",
    "print('Stats for the sky spaxels, before & after clipping:',end='\\n\\n')\n",
    "for d in [data[sli].copy(),final_clipped[sli].copy()]:\n",
    "    d[full_mask>0] = np.nan\n",
    "    print('Median:',np.nanmedian(d))\n",
    "    print('Mean:',np.nanmean(d))\n",
    "    print('Standard Deviation:',np.nanstd(d))\n",
    "    print('Max,Min:',np.nanmax(d),np.nanmin(d),end='\\n\\n')\n",
    "\n",
    "print()"
   ]
  },
  {
   "cell_type": "markdown",
   "id": "23c82cc9-e1e6-458a-832e-65686cd23794",
   "metadata": {},
   "source": [
    "### Saving outputs!\n",
    "\n",
    "Let's save the final output from the algorithm!  The FITS file output will have the following extensions:\n",
    "1. the data cube\n",
    "2. the uncertainty array\n",
    "3. the log of clipped/flagged pixels\n",
    "\n",
    "\n",
    "For now, we're using a quick-and-dirty method to preserve the important header info -- copying the original header to these new cubes that we're saving and adding a comment.  This will be updated to a more accurate header in later versions."
   ]
  },
  {
   "cell_type": "code",
   "execution_count": null,
   "id": "99677015-df37-413c-82b7-1158c8f9ed31",
   "metadata": {},
   "outputs": [],
   "source": [
    "header['comment'] = 'final clipped cube by H+ algorithm'\n",
    "\n",
    "hdu = fits.PrimaryHDU(header=header)\n",
    "hdu1 = fits.ImageHDU(final_clipped,header=header) # the data cube\n",
    "hdu2 = fits.ImageHDU(final_clipped_error,header=header) # the error cube\n",
    "hdu3 = fits.ImageHDU(clipped_pixels,header=header) # the clipped pixel tracker\n",
    "hdul = fits.HDUList([hdu, hdu1, hdu2, hdu3])\n",
    "\n",
    "hdul.writeto(f'plots-data/{target}-sigmaclipped-{grating}-s3d.fits',overwrite=True)\n"
   ]
  },
  {
   "cell_type": "markdown",
   "id": "d4d0ae13-f751-42e9-9817-87eb23e322c7",
   "metadata": {},
   "source": [
    ".  \n",
    ".  \n",
    ".  \n",
    "### all doneee"
   ]
  }
 ],
 "metadata": {
  "kernelspec": {
   "display_name": "Python 3 (ipykernel)",
   "language": "python",
   "name": "python3"
  },
  "language_info": {
   "codemirror_mode": {
    "name": "ipython",
    "version": 3
   },
   "file_extension": ".py",
   "mimetype": "text/x-python",
   "name": "python",
   "nbconvert_exporter": "python",
   "pygments_lexer": "ipython3",
   "version": "3.11.3"
  }
 },
 "nbformat": 4,
 "nbformat_minor": 5
}
